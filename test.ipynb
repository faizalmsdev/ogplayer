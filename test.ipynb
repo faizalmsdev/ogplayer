{
 "cells": [
  {
   "cell_type": "code",
   "execution_count": 1,
   "id": "f91db7e8",
   "metadata": {},
   "outputs": [
    {
     "name": "stdout",
     "output_type": "stream",
     "text": [
      "DuckDNS update response: OK\n",
      "r4zhtiWyAgpGl7RLUz7rPRcSevjRb1Ifhadk_5gt2BM\n",
      "UPDATED\n",
      "Waiting 60 seconds for DNS propagation...\n",
      "TXT record should now be set. You can check it and then press Enter in Certbot.\n"
     ]
    }
   ],
   "source": [
    "import requests\n",
    "import time\n",
    "\n",
    "duckdns_token = \"9da3c017-73bc-47e7-9705-308a01995a9f\"\n",
    "domain = \"groovify\"\n",
    "txt_value = \"r4zhtiWyAgpGl7RLUz7rPRcSevjRb1Ifhadk_5gt2BM\"  # new value from Certbot\n",
    "\n",
    "# Update TXT record (replaces previous)\n",
    "url = f\"https://www.duckdns.org/update?domains={domain}&token={duckdns_token}&txt={txt_value}&verbose=true\"\n",
    "response = requests.get(url)\n",
    "print(\"DuckDNS update response:\", response.text)\n",
    "\n",
    "# Wait for DNS propagation\n",
    "print(\"Waiting 60 seconds for DNS propagation...\")\n",
    "time.sleep(60)\n",
    "\n",
    "print(\"TXT record should now be set. You can check it and then press Enter in Certbot.\")\n"
   ]
  }
 ],
 "metadata": {
  "kernelspec": {
   "display_name": "Python 3",
   "language": "python",
   "name": "python3"
  },
  "language_info": {
   "codemirror_mode": {
    "name": "ipython",
    "version": 3
   },
   "file_extension": ".py",
   "mimetype": "text/x-python",
   "name": "python",
   "nbconvert_exporter": "python",
   "pygments_lexer": "ipython3",
   "version": "3.12.3"
  }
 },
 "nbformat": 4,
 "nbformat_minor": 5
}
